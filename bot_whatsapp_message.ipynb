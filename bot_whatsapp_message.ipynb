{
 "cells": [
  {
   "cell_type": "code",
   "execution_count": 1,
   "metadata": {
    "tags": []
   },
   "outputs": [],
   "source": [
    "import sys\n",
    "import warnings\n",
    "\n",
    "if not sys.warnoptions:\n",
    "    warnings.simplefilter('ignore')"
   ]
  },
  {
   "cell_type": "code",
   "execution_count": 2,
   "metadata": {},
   "outputs": [],
   "source": [
    "from src.utils import message, read_csv"
   ]
  },
  {
   "cell_type": "code",
   "execution_count": 3,
   "metadata": {
    "tags": []
   },
   "outputs": [
    {
     "name": "stdout",
     "output_type": "stream",
     "text": [
      "You have the following columns:\n",
      "\t ['nombre', 'fecha', 'monto', 'celular']\n"
     ]
    },
    {
     "data": {
      "text/html": [
       "<div>\n",
       "<style scoped>\n",
       "    .dataframe tbody tr th:only-of-type {\n",
       "        vertical-align: middle;\n",
       "    }\n",
       "\n",
       "    .dataframe tbody tr th {\n",
       "        vertical-align: top;\n",
       "    }\n",
       "\n",
       "    .dataframe thead th {\n",
       "        text-align: right;\n",
       "    }\n",
       "</style>\n",
       "<table border=\"1\" class=\"dataframe\">\n",
       "  <thead>\n",
       "    <tr style=\"text-align: right;\">\n",
       "      <th></th>\n",
       "      <th>nombre</th>\n",
       "      <th>fecha</th>\n",
       "      <th>monto</th>\n",
       "      <th>celular</th>\n",
       "    </tr>\n",
       "  </thead>\n",
       "  <tbody>\n",
       "    <tr>\n",
       "      <th>0</th>\n",
       "      <td>PEÑA QUISPE Luis Cesar</td>\n",
       "      <td>9/15/2024</td>\n",
       "      <td>S/ 50.00</td>\n",
       "      <td>996473240</td>\n",
       "    </tr>\n",
       "    <tr>\n",
       "      <th>1</th>\n",
       "      <td>AVILA GUTARRA Kevin Jack</td>\n",
       "      <td>9/20/2024</td>\n",
       "      <td>S/ 35.00</td>\n",
       "      <td>996473240</td>\n",
       "    </tr>\n",
       "    <tr>\n",
       "      <th>2</th>\n",
       "      <td>MACURI DE LA CRUZ Saori</td>\n",
       "      <td>9/10/2024</td>\n",
       "      <td>S/ 50.00</td>\n",
       "      <td>996473240</td>\n",
       "    </tr>\n",
       "    <tr>\n",
       "      <th>3</th>\n",
       "      <td>CAJAMALQUI PANTOJA, Julia Otilia</td>\n",
       "      <td>9/15/2024</td>\n",
       "      <td>S/ 0.00</td>\n",
       "      <td>996473240</td>\n",
       "    </tr>\n",
       "    <tr>\n",
       "      <th>4</th>\n",
       "      <td>LOBATO LOPEZ Joel</td>\n",
       "      <td>9/20/2024</td>\n",
       "      <td>S/ 50.00</td>\n",
       "      <td>996473240</td>\n",
       "    </tr>\n",
       "  </tbody>\n",
       "</table>\n",
       "</div>"
      ],
      "text/plain": [
       "                             nombre      fecha     monto    celular\n",
       "0            PEÑA QUISPE Luis Cesar  9/15/2024  S/ 50.00  996473240\n",
       "1          AVILA GUTARRA Kevin Jack  9/20/2024  S/ 35.00  996473240\n",
       "2           MACURI DE LA CRUZ Saori  9/10/2024  S/ 50.00  996473240\n",
       "3  CAJAMALQUI PANTOJA, Julia Otilia  9/15/2024   S/ 0.00  996473240\n",
       "4                 LOBATO LOPEZ Joel  9/20/2024  S/ 50.00  996473240"
      ]
     },
     "execution_count": 3,
     "metadata": {},
     "output_type": "execute_result"
    }
   ],
   "source": [
    "filename = r\"C:\\Users\\carv_\\Documents\\programming\\python\\whatsapp_sender\\recordatorio.csv\"\n",
    "df = read_csv(filename)\n",
    "df.head()"
   ]
  },
  {
   "cell_type": "code",
   "execution_count": 4,
   "metadata": {
    "tags": []
   },
   "outputs": [],
   "source": [
    "msg = \"\"\"Buenas tardes estimado ${nombre}.\n",
    "Le saludamos de la empresa INNTEL💚💚💚,\n",
    "recordarle que su mensualidad está por vencer el ${fecha}\n",
    "por un monto de ${monto},\n",
    "evite los cortes.\n",
    "Le envío los números de cuenta de la empresa.\"\"\""
   ]
  },
  {
   "cell_type": "code",
   "execution_count": 5,
   "metadata": {
    "tags": []
   },
   "outputs": [],
   "source": [
    "import os\n",
    "from src.scrapper import service_run\n",
    "from src.sender import find_sidebar, send_message\n",
    "\n",
    "cwd_path = r\"C:\\Users\\carv_\\Documents\\programming\\python\\whatsapp_sender\"\n",
    "driver = service_run(os.getcwd())"
   ]
  },
  {
   "cell_type": "code",
   "execution_count": 6,
   "metadata": {
    "tags": []
   },
   "outputs": [],
   "source": [
    "wsp = \"https://web.whatsapp.com\"\n",
    "driver.get(wsp)"
   ]
  },
  {
   "cell_type": "code",
   "execution_count": 7,
   "metadata": {
    "tags": []
   },
   "outputs": [],
   "source": [
    "find_sidebar(driver)"
   ]
  },
  {
   "cell_type": "code",
   "execution_count": 9,
   "metadata": {
    "tags": []
   },
   "outputs": [
    {
     "name": "stdout",
     "output_type": "stream",
     "text": [
      "2\n"
     ]
    }
   ],
   "source": [
    "logs = 0\n",
    "\n",
    "for i, row in df.iterrows():\n",
    "  if i == 2:\n",
    "    break\n",
    "  line = message(row, msg)\n",
    "  link = \"%s/send?phone=51%d&text=%s&source&data\" % (wsp, row.celular, line)\n",
    "  logs = send_message(driver, link, row.celular, logs)\n",
    "\n",
    "print(logs)"
   ]
  },
  {
   "cell_type": "code",
   "execution_count": null,
   "metadata": {},
   "outputs": [],
   "source": []
  },
  {
   "cell_type": "code",
   "execution_count": null,
   "metadata": {},
   "outputs": [],
   "source": []
  },
  {
   "cell_type": "code",
   "execution_count": null,
   "metadata": {},
   "outputs": [],
   "source": []
  },
  {
   "cell_type": "code",
   "execution_count": null,
   "metadata": {},
   "outputs": [],
   "source": []
  },
  {
   "cell_type": "code",
   "execution_count": 10,
   "metadata": {
    "tags": []
   },
   "outputs": [],
   "source": [
    "driver.quit()"
   ]
  },
  {
   "cell_type": "code",
   "execution_count": null,
   "metadata": {},
   "outputs": [],
   "source": []
  },
  {
   "cell_type": "code",
   "execution_count": null,
   "metadata": {},
   "outputs": [],
   "source": []
  }
 ],
 "metadata": {
  "kernelspec": {
   "display_name": "Python 3 (ipykernel)",
   "language": "python",
   "name": "python3"
  },
  "language_info": {
   "codemirror_mode": {
    "name": "ipython",
    "version": 3
   },
   "file_extension": ".py",
   "mimetype": "text/x-python",
   "name": "python",
   "nbconvert_exporter": "python",
   "pygments_lexer": "ipython3",
   "version": "3.11.4"
  }
 },
 "nbformat": 4,
 "nbformat_minor": 4
}
