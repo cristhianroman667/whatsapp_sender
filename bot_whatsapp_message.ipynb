{
 "cells": [
  {
   "cell_type": "code",
   "execution_count": 1,
   "metadata": {
    "tags": []
   },
   "outputs": [],
   "source": [
    "import os\n",
    "import sys\n",
    "import warnings\n",
    "import time\n",
    "import urllib.parse\n",
    "import numpy as np\n",
    "import pandas as pd\n",
    "\n",
    "if not sys.warnoptions:\n",
    "    warnings.simplefilter('ignore')\n",
    "    \n",
    "Path = sys.path[1]"
   ]
  },
  {
   "cell_type": "code",
   "execution_count": 2,
   "metadata": {
    "tags": []
   },
   "outputs": [],
   "source": [
    "def message(row):\n",
    "    name = \"%s %s\" % (row.apellidos, row.nombres) if not row.isnull().nombres else \"%s\" % (row.apellidos)\n",
    "    line = \"InntelPeru - Servicios de internet + cable.\\n\\\n",
    "Estimado usuario %s.\\n\\\n",
    "Estamos atendiendo en nuestra oficina desde 9am a 2pm\\n\\\n",
    "Numeros de consultas: 957099839/997700166\\n\\\n",
    "Si no es nuestro cliente ignore este mensaje.\" % (name)\n",
    "    \n",
    "    return urllib.parse.quote(line)"
   ]
  },
  {
   "cell_type": "code",
   "execution_count": 17,
   "metadata": {
    "tags": []
   },
   "outputs": [],
   "source": [
    "def send_message(link, phone, envios):\n",
    "    driver.get(link)\n",
    "    try:\n",
    "        element = WebDriverWait(driver, 15).until(\n",
    "            EC.presence_of_element_located((By.CLASS_NAME, \"x1c4vz4f\"))\n",
    "        )\n",
    "        element.click()\n",
    "        time.sleep(3)\n",
    "        envios += 1\n",
    "    except:\n",
    "        print(\"No enviado %d\" % (phone))\n",
    "    return envios"
   ]
  },
  {
   "cell_type": "code",
   "execution_count": 4,
   "metadata": {
    "tags": []
   },
   "outputs": [],
   "source": [
    "filename = r\"C:\\Users\\carv_\\Documents\\programming\\python\\whatsapp_sender\\contactos.csv\"\n",
    "df = pd.read_csv(filename)"
   ]
  },
  {
   "cell_type": "code",
   "execution_count": 5,
   "metadata": {
    "tags": []
   },
   "outputs": [
    {
     "data": {
      "text/html": [
       "<div>\n",
       "<style scoped>\n",
       "    .dataframe tbody tr th:only-of-type {\n",
       "        vertical-align: middle;\n",
       "    }\n",
       "\n",
       "    .dataframe tbody tr th {\n",
       "        vertical-align: top;\n",
       "    }\n",
       "\n",
       "    .dataframe thead th {\n",
       "        text-align: right;\n",
       "    }\n",
       "</style>\n",
       "<table border=\"1\" class=\"dataframe\">\n",
       "  <thead>\n",
       "    <tr style=\"text-align: right;\">\n",
       "      <th></th>\n",
       "      <th>apellidos</th>\n",
       "      <th>nombres</th>\n",
       "      <th>celular</th>\n",
       "    </tr>\n",
       "  </thead>\n",
       "  <tbody>\n",
       "    <tr>\n",
       "      <th>0</th>\n",
       "      <td>ACEVEDO TRILLO</td>\n",
       "      <td>Jhonny Roger</td>\n",
       "      <td>949300401</td>\n",
       "    </tr>\n",
       "    <tr>\n",
       "      <th>1</th>\n",
       "      <td>ACUÑA ESPINOZA</td>\n",
       "      <td>Fernando</td>\n",
       "      <td>964343222</td>\n",
       "    </tr>\n",
       "    <tr>\n",
       "      <th>2</th>\n",
       "      <td>AFING CONTRATISTAS GENERALES SAC</td>\n",
       "      <td>NaN</td>\n",
       "      <td>949708537</td>\n",
       "    </tr>\n",
       "    <tr>\n",
       "      <th>3</th>\n",
       "      <td>AGROINDUSTRIA CARMENCITA S.A.C</td>\n",
       "      <td>NaN</td>\n",
       "      <td>935816237</td>\n",
       "    </tr>\n",
       "    <tr>\n",
       "      <th>4</th>\n",
       "      <td>AGUILAR MEZA</td>\n",
       "      <td>Edelmira Florita</td>\n",
       "      <td>962565307</td>\n",
       "    </tr>\n",
       "  </tbody>\n",
       "</table>\n",
       "</div>"
      ],
      "text/plain": [
       "                          apellidos           nombres    celular\n",
       "0                    ACEVEDO TRILLO      Jhonny Roger  949300401\n",
       "1                    ACUÑA ESPINOZA          Fernando  964343222\n",
       "2  AFING CONTRATISTAS GENERALES SAC               NaN  949708537\n",
       "3    AGROINDUSTRIA CARMENCITA S.A.C               NaN  935816237\n",
       "4                      AGUILAR MEZA  Edelmira Florita  962565307"
      ]
     },
     "execution_count": 5,
     "metadata": {},
     "output_type": "execute_result"
    }
   ],
   "source": [
    "df.head()"
   ]
  },
  {
   "cell_type": "code",
   "execution_count": 6,
   "metadata": {
    "tags": []
   },
   "outputs": [],
   "source": [
    "from selenium import webdriver\n",
    "from selenium.webdriver.common.by import By\n",
    "from selenium.webdriver.support.ui import WebDriverWait\n",
    "from selenium.webdriver.support import expected_conditions as EC\n",
    "from selenium.webdriver.edge.service import Service\n",
    "\n",
    "driver_path = r\"C:\\Users\\carv_\\Documents\\programming\\python\\whatsapp_sender\\msedgedriver.exe\"\n",
    "service = Service(driver_path)\n",
    "driver = webdriver.Edge(service=service)"
   ]
  },
  {
   "cell_type": "code",
   "execution_count": 7,
   "metadata": {
    "tags": []
   },
   "outputs": [],
   "source": [
    "driver.get('https://web.whatsapp.com/')"
   ]
  },
  {
   "cell_type": "code",
   "execution_count": null,
   "metadata": {},
   "outputs": [],
   "source": []
  },
  {
   "cell_type": "code",
   "execution_count": 8,
   "metadata": {
    "tags": []
   },
   "outputs": [],
   "source": [
    "try:\n",
    "    element = WebDriverWait(driver, 130).until(\n",
    "        EC.presence_of_element_located((By.ID, \"side\"))\n",
    "    )\n",
    "\n",
    "except:\n",
    "    driver.find_element_by_class_name('_11ozL').click()\n",
    "    try:\n",
    "        element = WebDriverWait(driver, 130).until(\n",
    "            EC.presence_of_element_located((By.ID, \"side\"))\n",
    "        )\n",
    "\n",
    "    except:\n",
    "        driver.quit()"
   ]
  },
  {
   "cell_type": "code",
   "execution_count": 18,
   "metadata": {
    "tags": []
   },
   "outputs": [
    {
     "name": "stdout",
     "output_type": "stream",
     "text": [
      "<selenium.webdriver.remote.webelement.WebElement (session=\"6ce9340c41cbdea6ec23377df7590bbe\", element=\"f.37AA96D01BA9188681208D4D99159BF8.d.4F72C0664FD5CB3E2507AF53B9BD762C.e.5834\")>\n",
      "<selenium.webdriver.remote.webelement.WebElement (session=\"6ce9340c41cbdea6ec23377df7590bbe\", element=\"f.37AA96D01BA9188681208D4D99159BF8.d.0C1BD2F9DE0E9C796939433F520C5E0B.e.6087\")>\n",
      "No enviado 996473240\n"
     ]
    }
   ],
   "source": [
    "wsp = \"https://web.whatsapp.com\"\n",
    "envios = 0\n",
    "\n",
    "for i, row in df.iterrows():\n",
    "    if i == 2:\n",
    "        break\n",
    "    mess = message(row)\n",
    "    phone = row.celular\n",
    "    phone = 996473240\n",
    "    link = \"%s/send?phone=51%d&text=%s&source&data\" % (wsp, phone, mess)\n",
    "    envios = send_message(link, phone, envios)"
   ]
  },
  {
   "cell_type": "code",
   "execution_count": 24,
   "metadata": {},
   "outputs": [],
   "source": [
    "driver.quit()"
   ]
  },
  {
   "cell_type": "code",
   "execution_count": null,
   "metadata": {},
   "outputs": [],
   "source": []
  },
  {
   "cell_type": "code",
   "execution_count": null,
   "metadata": {},
   "outputs": [],
   "source": [
    "\"https://web.whatsapp.com/send?phone=393336588232&text=hola&source&data\""
   ]
  },
  {
   "cell_type": "code",
   "execution_count": null,
   "metadata": {},
   "outputs": [],
   "source": []
  },
  {
   "cell_type": "code",
   "execution_count": null,
   "metadata": {},
   "outputs": [],
   "source": []
  },
  {
   "cell_type": "code",
   "execution_count": null,
   "metadata": {},
   "outputs": [],
   "source": []
  },
  {
   "cell_type": "code",
   "execution_count": null,
   "metadata": {},
   "outputs": [],
   "source": []
  },
  {
   "cell_type": "code",
   "execution_count": null,
   "metadata": {},
   "outputs": [],
   "source": []
  },
  {
   "cell_type": "code",
   "execution_count": null,
   "metadata": {},
   "outputs": [],
   "source": [
    "try:\n",
    "    WebDriverWait(driver, 3).until(EC.alert_is_present(),\n",
    "                                   'Timed out waiting for PA creation ' +\n",
    "                                   'confirmation popup to appear.')\n",
    "\n",
    "    alert = driver.switch_to.alert\n",
    "    alert.accept()\n",
    "    print(alert.text)\n",
    "    alertas += 1\n",
    "except:\n",
    "    noalertas += 1"
   ]
  },
  {
   "cell_type": "code",
   "execution_count": null,
   "metadata": {},
   "outputs": [],
   "source": []
  }
 ],
 "metadata": {
  "kernelspec": {
   "display_name": "Python 3 (ipykernel)",
   "language": "python",
   "name": "python3"
  },
  "language_info": {
   "codemirror_mode": {
    "name": "ipython",
    "version": 3
   },
   "file_extension": ".py",
   "mimetype": "text/x-python",
   "name": "python",
   "nbconvert_exporter": "python",
   "pygments_lexer": "ipython3",
   "version": "3.11.4"
  }
 },
 "nbformat": 4,
 "nbformat_minor": 4
}
