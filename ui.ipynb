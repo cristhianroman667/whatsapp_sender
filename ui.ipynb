{
 "cells": [
  {
   "cell_type": "code",
   "execution_count": 1,
   "id": "3e95d120-98d4-4c19-8c2c-1a68b0fae12a",
   "metadata": {
    "tags": []
   },
   "outputs": [],
   "source": [
    "import re\n",
    "import tkinter as tk\n",
    "from tkinter import ttk\n",
    "from tkinter.messagebox import showerror, showinfo"
   ]
  },
  {
   "cell_type": "code",
   "execution_count": 2,
   "id": "1f12097e-7ec8-45ba-b1ad-d29af548bfc3",
   "metadata": {
    "tags": []
   },
   "outputs": [],
   "source": [
    "class App(tk.Tk):\n",
    "    def __init__(self):\n",
    "        super().__init__()\n",
    "\n",
    "        self.title('Temperature Converter')\n",
    "        self.geometry('500x500')\n",
    "        self.resizable(False, False)"
   ]
  },
  {
   "cell_type": "code",
   "execution_count": 3,
   "id": "29959c2e-537f-491e-9320-acee5433c073",
   "metadata": {
    "tags": []
   },
   "outputs": [],
   "source": [
    "import os\n",
    "from src.scrapper import service_run\n",
    "from src.sender import find_sidebar, send_message\n",
    "\n",
    "from src.utils import message, read_csv"
   ]
  },
  {
   "cell_type": "code",
   "execution_count": 4,
   "id": "bcaca12a-9afa-445f-8791-460a2e510bb7",
   "metadata": {
    "tags": []
   },
   "outputs": [],
   "source": [
    "class CsvConverter:\n",
    "    @staticmethod\n",
    "    def read_csv_from(f, format=True):\n",
    "        print(\"Reading file %s\" % f)\n",
    "        global df\n",
    "        df = read_csv(f)\n",
    "        \n",
    "        if format:\n",
    "            return f'You have the following columns\\n\\t{list(df.columns)}'\n",
    "        return list(df.columns)"
   ]
  },
  {
   "cell_type": "code",
   "execution_count": 5,
   "id": "4a0b4eb4-23ba-4ef5-8adc-6a9d6da86d57",
   "metadata": {
    "tags": []
   },
   "outputs": [],
   "source": [
    "class CsvFrame(ttk.Frame):\n",
    "    def __init__(self, container, reader):\n",
    "        super().__init__(container)\n",
    "\n",
    "        self.reader = reader\n",
    "\n",
    "        # field options\n",
    "        options = {'padx': 5, 'pady': 0}\n",
    "\n",
    "        # temperature label\n",
    "        self.csv_label = ttk.Label(self, text=\"CSV file\")\n",
    "        self.csv_label.grid(column=0, row=0, sticky='w',  **options)\n",
    "\n",
    "        # temperature entry\n",
    "        # self.csv = tk.StringVar()\n",
    "        # self.csv_entry = ttk.Entry(self, textvariable=self.csv)\n",
    "        # self.csv_entry.grid(column=1, row=0, columnspan=2, sticky='w', **options)\n",
    "        # self.csv_entry.focus()\n",
    "        \n",
    "        self.csv_frame = tk.Frame(self)\n",
    "        self.csv_frame.grid(column=1, row=0, columnspan=2, sticky='w', **options)\n",
    "        self.csv = tk.Text(self.csv_frame, height=1, width=40) # height=20, width=20)\n",
    "        self.csv.pack()\n",
    "\n",
    "        # button\n",
    "        self.convert_button = ttk.Button(self, text='Load')\n",
    "        self.convert_button.grid(column=3, row=0, sticky='w', **options)\n",
    "        self.convert_button.configure(command=self.read_csv)\n",
    "\n",
    "        # result label\n",
    "        self.result_label = ttk.Label(self)\n",
    "        self.result_label.grid(row=1, columnspan=3, **options)\n",
    "\n",
    "        # add padding to the frame and show it\n",
    "        self.grid(column=0, row=0, padx=5, pady=5, sticky=\"nsew\")\n",
    "\n",
    "    def read_csv(self, event=None):\n",
    "        \"\"\"  Handle button click event\n",
    "        \"\"\"\n",
    "        try:\n",
    "            global input_value\n",
    "            input_value = self.csv.get(1.0, \"end-1c\")\n",
    "            result = self.reader(input_value)\n",
    "            self.result_label.config(text=result)\n",
    "        except FileNotFoundError as error:\n",
    "            self.reset()\n",
    "            self.result_label.config(text='')\n",
    "            showerror(title='Error', message=error)\n",
    "        except ValueError as error:\n",
    "            self.reset()\n",
    "            self.result_label.config(text='')\n",
    "            showerror(title='Error', message=error)\n",
    "\n",
    "    def reset(self):\n",
    "        self.csv.delete('1.0', 'end')\n",
    "        self.result_label.text = ''"
   ]
  },
  {
   "cell_type": "code",
   "execution_count": 6,
   "id": "1bbdf2a1-3b15-444e-b6f7-efd66310e07a",
   "metadata": {
    "tags": []
   },
   "outputs": [],
   "source": [
    "class ControlFrame(ttk.LabelFrame):\n",
    "    def __init__(self, container):\n",
    "\n",
    "        super().__init__(container)\n",
    "        self['text'] = 'Message'\n",
    "        options = {'padx': 5, 'pady': 0}\n",
    "        self.df = None\n",
    "        self.wsp = \"https://web.whatsapp.com\"\n",
    "        \n",
    "        self.message_frame = tk.Frame(self)\n",
    "        self.message_frame.grid(column=0, row=0, columnspan=8, sticky='w', **options)\n",
    "        self.message = tk.Text(self.message_frame, height=20, width=55)\n",
    "        self.message.pack()\n",
    "        \n",
    "        # button\n",
    "        self.convert_button = ttk.Button(self, text='Preview')\n",
    "        self.convert_button.grid(column=0, row=1, sticky='w', **options)\n",
    "        self.convert_button.configure(command=self.preview_message)\n",
    "        \n",
    "        # button\n",
    "        self.convert_button = ttk.Button(self, text='Send')\n",
    "        self.convert_button.grid(column=1, row=1, sticky='w', **options)\n",
    "        self.convert_button.configure(command=self.send_message)\n",
    "\n",
    "        self.grid(column=0, row=1, padx=5, pady=5, sticky='ew')\n",
    "\n",
    "        # initialize frames\n",
    "        self.frame = CsvFrame(\n",
    "            container,\n",
    "            CsvConverter.read_csv_from\n",
    "        )\n",
    "\n",
    "        \n",
    "    def preview_message(self):\n",
    "        if 'df' not in globals():\n",
    "            showerror(\"Send Message\", \"Please, load the CSV file first\")\n",
    "            return\n",
    "\n",
    "        self.df = df\n",
    "        self.template = self.message.get(1.0, \"end-1c\")\n",
    "        if self.template == '':\n",
    "            showerror(\"Send Message\", \"The message is empty\")\n",
    "            return\n",
    "          \n",
    "        line = message(self.df.iloc[0], self.template, url=False)\n",
    "        showinfo(\"Preview\", line)\n",
    "        \n",
    "    def send_message(self):\n",
    "        if self.df is None:\n",
    "            showerror(\"Send Message\", \"Please, preview the message first\")\n",
    "            return\n",
    "        print(\"send\")\n",
    "        \n",
    "        if not self.template == self.message.get(1.0, \"end-1c\"):\n",
    "            showerror(\"Send Message\", \"The message has changed!\")\n",
    "            return\n",
    "          \n",
    "        self.driver = service_run(os.getcwd())\n",
    "        self.driver.get(self.wsp)\n",
    "        find_sidebar(self.driver)\n",
    "        logs = 0\n",
    "        self.df['sent'] = 0\n",
    "          \n",
    "        for i, row in df.iterrows():\n",
    "            line = message(row, self.template)\n",
    "            link = f\"{self.wsp}/send?phone=51{row.celular}&text={line}&source&data\"\n",
    "            flag = send_message(self.driver, link, row.celular)\n",
    "            if flag:\n",
    "                logs += 1\n",
    "                self.df.loc[i, 'sent'] = 1\n",
    "\n",
    "        self.driver.quit()\n",
    "        self.output_path = re.search(r'(.*)\\.csv', input_value).group(1)\n",
    "        self.output_path = self.output_path + '_output.csv'\n",
    "        self.df.to_csv(self.output_path, sep=',', index=False)\n",
    "        showinfo(\"Results\", f\"Total sent: {logs}\\nTotal skept: {len(df)-logs}\\nTotal: {len(df)}\")\n",
    "        \n",
    "\n",
    "    def change_frame(self):\n",
    "        frame = self.frames[self.selected_value.get()]\n",
    "        frame.reset()\n",
    "        frame.tkraise()"
   ]
  },
  {
   "cell_type": "code",
   "execution_count": null,
   "id": "3855a009-ca43-4920-bc2f-9f46c17f2d49",
   "metadata": {},
   "outputs": [],
   "source": []
  },
  {
   "cell_type": "code",
   "execution_count": 7,
   "id": "4fd78bdc-831e-45eb-ae85-5369bdf2342b",
   "metadata": {},
   "outputs": [
    {
     "name": "stdout",
     "output_type": "stream",
     "text": [
      "Reading file C:\\Users\\carv_\\Documents\\programming\\python\\whatsapp_sender\\recordatorio.csv\n",
      "send\n"
     ]
    }
   ],
   "source": [
    "app = App()\n",
    "ControlFrame(app)\n",
    "app.mainloop()"
   ]
  },
  {
   "cell_type": "code",
   "execution_count": null,
   "id": "9604fb21-cf26-483c-bbb4-a829dfe0a2bc",
   "metadata": {},
   "outputs": [],
   "source": []
  },
  {
   "cell_type": "code",
   "execution_count": null,
   "id": "5e30872f-c5d5-4328-905f-a3cc93f36ad0",
   "metadata": {},
   "outputs": [],
   "source": []
  },
  {
   "cell_type": "code",
   "execution_count": 91,
   "id": "f602ea20-654b-467a-98f0-e338fa5993fe",
   "metadata": {
    "tags": []
   },
   "outputs": [],
   "source": [
    "import tkinter as tk\n",
    "\n",
    "# Create the main window\n",
    "root = tk.Tk()\n",
    "root.title(\"Grid Rowspan Example\")\n",
    "\n",
    "# Create some labels to demonstrate the grid layout\n",
    "label1 = tk.Label(root, text=\"Label 1\", bg=\"lightblue\")\n",
    "label2 = tk.Label(root, text=\"Label 2\", bg=\"lightgreen\")\n",
    "label3 = tk.Label(root, text=\"Label 3\", bg=\"lightyellow\")\n",
    "\n",
    "# Place label1 in the grid, spanning two rows\n",
    "label1.grid(row=0, column=0, rowspan=2, sticky=\"nsew\")\n",
    "\n",
    "# Place label2 and label3 in the grid\n",
    "label2.grid(row=0, column=1, sticky=\"nsew\")\n",
    "label3.grid(row=1, column=1, sticky=\"nsew\")\n",
    "\n",
    "# Configure the grid to make it more flexible\n",
    "# root.grid_rowconfigure(0, weight=1)\n",
    "# root.grid_rowconfigure(1, weight=1)\n",
    "# root.grid_columnconfigure(0, weight=1)\n",
    "# root.grid_columnconfigure(1, weight=1)\n",
    "\n",
    "# Run the application\n",
    "root.mainloop()"
   ]
  },
  {
   "cell_type": "code",
   "execution_count": null,
   "id": "fb7eb686-4568-492c-8589-b2687d11a709",
   "metadata": {},
   "outputs": [],
   "source": []
  }
 ],
 "metadata": {
  "kernelspec": {
   "display_name": "Python 3 (ipykernel)",
   "language": "python",
   "name": "python3"
  },
  "language_info": {
   "codemirror_mode": {
    "name": "ipython",
    "version": 3
   },
   "file_extension": ".py",
   "mimetype": "text/x-python",
   "name": "python",
   "nbconvert_exporter": "python",
   "pygments_lexer": "ipython3",
   "version": "3.11.4"
  }
 },
 "nbformat": 4,
 "nbformat_minor": 5
}
